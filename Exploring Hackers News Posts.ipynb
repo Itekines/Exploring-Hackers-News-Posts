{
 "cells": [
  {
   "cell_type": "markdown",
   "id": "d3c21f33",
   "metadata": {},
   "source": [
    "# Exploring Hackers News Posts\n",
    "This projects aim is to determine what kind of hacker news posts get more attraction and at what time. for this I will use this [dataset](https://www.kaggle.com/datasets/hacker-news/hacker-news-posts)  without the posts which did not get any upvotes or comments."
   ]
  },
  {
   "cell_type": "code",
   "execution_count": 1,
   "id": "20fc12f1",
   "metadata": {
    "scrolled": true
   },
   "outputs": [],
   "source": [
    "from csv import reader\n",
    "dataset = open('HN_posts.csv', encoding='utf8')\n",
    "dataset = reader(dataset)\n",
    "HN_dataset = list(dataset)\n",
    "headers = HN_dataset[0]\n",
    "HN_dataset = HN_dataset[1:]"
   ]
  },
  {
   "cell_type": "code",
   "execution_count": 2,
   "id": "01d78c8b",
   "metadata": {},
   "outputs": [
    {
     "name": "stdout",
     "output_type": "stream",
     "text": [
      "['12579008', 'You have two days to comment if you want stem cells to be classified as your own', 'http://www.regulations.gov/document?D=FDA-2015-D-3719-0018', '1', '0', 'altstar', '9/26/2016 3:26']\n",
      "\n",
      "\n",
      "['12579005', 'SQLAR  the SQLite Archiver', 'https://www.sqlite.org/sqlar/doc/trunk/README.md', '1', '0', 'blacksqr', '9/26/2016 3:24']\n",
      "\n",
      "\n",
      "['12578997', 'What if we just printed a flatscreen television on the side of our boxes?', 'https://medium.com/vanmoof/our-secrets-out-f21c1f03fdc8#.ietxmez43', '1', '0', 'pavel_lishin', '9/26/2016 3:19']\n",
      "\n",
      "\n",
      "['12578989', 'algorithmic music', 'http://cacm.acm.org/magazines/2011/7/109891-algorithmic-composition/fulltext', '1', '0', 'poindontcare', '9/26/2016 3:16']\n",
      "\n",
      "\n",
      "['12578979', 'How the Data Vault Enables the Next-Gen Data Warehouse and Data Lake', 'https://www.talend.com/blog/2016/05/12/talend-and-Â\\x93the-data-vaultÂ\\x94', '1', '0', 'markgainor1', '9/26/2016 3:14']\n",
      "\n",
      "\n"
     ]
    }
   ],
   "source": [
    "def explore_data(dataset, start=0, end=-1, rows_and_coloumns=False, heading=False):\n",
    "    if heading is True:\n",
    "        dataset.pop(0)\n",
    "    dataset_slice = dataset[start:end]\n",
    "    for row in dataset_slice:\n",
    "        print(row)\n",
    "        print('\\n')\n",
    "    if rows_and_coloumns is True:\n",
    "        print('Number of rows', len(dataset))\n",
    "        print('number of coloumns', len(dataset[0]))\n",
    "explore_data(HN_dataset, 0, 5)"
   ]
  },
  {
   "cell_type": "markdown",
   "id": "2a3681e6",
   "metadata": {},
   "source": [
    "Create seperate list of lists for Ask HN and Show HN posts"
   ]
  },
  {
   "cell_type": "code",
   "execution_count": 3,
   "id": "c8f0c5ac",
   "metadata": {},
   "outputs": [
    {
     "name": "stdout",
     "output_type": "stream",
     "text": [
      "9139 10158 273822\n"
     ]
    }
   ],
   "source": [
    "ask_posts = []\n",
    "show_posts = []\n",
    "other_posts = []\n",
    "\n",
    "for post in HN_dataset:\n",
    "    title = post[1]\n",
    "    if title.lower().startswith('ask hn'):\n",
    "        ask_posts.append(post)\n",
    "    elif title.lower().startswith('show hn'):\n",
    "        show_posts.append(post)\n",
    "    else:\n",
    "        other_posts.append(post)\n",
    "print(len(ask_posts), len(show_posts), len(other_posts))"
   ]
  },
  {
   "cell_type": "markdown",
   "id": "8866cfa5",
   "metadata": {},
   "source": [
    "Average number of comments for ask HN posts"
   ]
  },
  {
   "cell_type": "code",
   "execution_count": 4,
   "id": "6838c700",
   "metadata": {},
   "outputs": [
    {
     "name": "stdout",
     "output_type": "stream",
     "text": [
      "10.393478498741656\n"
     ]
    }
   ],
   "source": [
    "total_ask_comments = 0\n",
    "num_of_posts = 0\n",
    "for post in ask_posts:\n",
    "    num_of_posts += 1\n",
    "    comment = post[4]\n",
    "    total_ask_comments += int(comment)\n",
    "avg_ask_comments = total_ask_comments / num_of_posts\n",
    "print(avg_ask_comments)"
   ]
  },
  {
   "cell_type": "markdown",
   "id": "9871840f",
   "metadata": {},
   "source": [
    "Average number of comments for show HN posts"
   ]
  },
  {
   "cell_type": "code",
   "execution_count": 5,
   "id": "1e699890",
   "metadata": {},
   "outputs": [
    {
     "name": "stdout",
     "output_type": "stream",
     "text": [
      "5.430900536163694\n"
     ]
    }
   ],
   "source": [
    "total_show_comments = 0\n",
    "for post in show_posts:\n",
    "    total_show_comments += int(post[4])\n",
    "average_show_comments = total_show_comments / num_of_posts\n",
    "print(average_show_comments)"
   ]
  },
  {
   "cell_type": "markdown",
   "id": "cd26423f",
   "metadata": {},
   "source": [
    "We can clearly see that ask HN posts recieve around two times more comments than show HN post. The reason for this is because ask HN posts interact directly with the community."
   ]
  },
  {
   "cell_type": "markdown",
   "id": "bf230c45",
   "metadata": {},
   "source": [
    "Frequency tables for the number of posts and comments for every hour in ask HN posts"
   ]
  },
  {
   "cell_type": "code",
   "execution_count": 16,
   "id": "17fab613",
   "metadata": {},
   "outputs": [
    {
     "name": "stdout",
     "output_type": "stream",
     "text": [
      "{'02': 2996, '01': 2089, '22': 3372, '21': 4500, '19': 3954, '17': 5547, '15': 18525, '14': 4972, '13': 7245, '11': 2797, '10': 3013, '09': 1477, '07': 1585, '03': 2154, '23': 2297, '20': 4462, '16': 4466, '08': 2362, '00': 2277, '18': 4877, '12': 4234, '04': 2360, '06': 1587, '05': 1838}\n"
     ]
    }
   ],
   "source": [
    "import datetime as dt\n",
    "result_list = []\n",
    "for post in ask_posts:\n",
    "    time = [post[6], int(post[4])]\n",
    "    result_list.append(time)\n",
    "counts_by_hour = {}\n",
    "comments_by_hour = {}\n",
    "for comment in result_list:\n",
    "    date = dt.datetime.strptime(comment[0], '%m/%d/%Y %H:%M')\n",
    "    hour = dt.datetime.strftime(date, '%H')\n",
    "    if hour in counts_by_hour:\n",
    "        counts_by_hour[hour] += 1\n",
    "        comments_by_hour[hour] += comment[1]\n",
    "    else: \n",
    "        counts_by_hour[hour] = 1 \n",
    "        comments_by_hour[hour] = comment[1]\n",
    "print(comments_by_hour)"
   ]
  },
  {
   "cell_type": "markdown",
   "id": "554e8d3f",
   "metadata": {},
   "source": [
    "Average comments per ask HN post for every hour of the day"
   ]
  },
  {
   "cell_type": "code",
   "execution_count": 20,
   "id": "56e03a01",
   "metadata": {
    "scrolled": true
   },
   "outputs": [
    {
     "name": "stdout",
     "output_type": "stream",
     "text": [
      "[['02', 11.14], ['01', 7.41], ['22', 8.8], ['21', 8.69], ['19', 7.16], ['17', 9.45], ['15', 28.68], ['14', 9.69], ['13', 16.32], ['11', 8.96], ['10', 10.68], ['09', 6.65], ['07', 7.01], ['03', 7.95], ['23', 6.7], ['20', 8.75], ['16', 7.71], ['08', 9.19], ['00', 7.56], ['18', 7.94], ['12', 12.38], ['04', 9.71], ['06', 6.78], ['05', 8.79]]\n"
     ]
    }
   ],
   "source": [
    "avg_by_hour = []\n",
    "for time in comments_by_hour:\n",
    "    avg_by_hour.append([time, round(comments_by_hour[time] / counts_by_hour[time], 2)])\n",
    "print(avg_by_hour)"
   ]
  },
  {
   "cell_type": "markdown",
   "id": "f8278675",
   "metadata": {},
   "source": [
    "Sort the list by the highest average number of comments per ask HN posts at every hour.\n",
    "From the data we can see that afternoon is the best time to write a ask HN post. We cann also see that particularly at 15 O'clock, ask HN posts recieve by far the highest number of comments."
   ]
  },
  {
   "cell_type": "code",
   "execution_count": 25,
   "id": "09a2f039",
   "metadata": {},
   "outputs": [
    {
     "name": "stdout",
     "output_type": "stream",
     "text": [
      "Top 5 hours for Ask Posts Comments\n",
      "15:00: 28.68 average comments per post\n",
      "13:00: 16.32 average comments per post\n",
      "12:00: 12.38 average comments per post\n",
      "02:00: 11.14 average comments per post\n",
      "10:00: 10.68 average comments per post\n"
     ]
    }
   ],
   "source": [
    "swap_avg_by_hour = []\n",
    "for i in avg_by_hour:\n",
    "    l = [i[1], i[0]]\n",
    "    swap_avg_by_hour.append(l)\n",
    "sorted_swap = sorted(swap_avg_by_hour, reverse=True)\n",
    "print('Top 5 hours for Ask Posts Comments')\n",
    "for avg, hr in sorted_swap[:5]:\n",
    "    print('{}: {:.2f} average comments per post'.format(dt.datetime.strptime(hr, '%H').strftime('%H:%M'), avg))"
   ]
  }
 ],
 "metadata": {
  "kernelspec": {
   "display_name": "Python 3 (ipykernel)",
   "language": "python",
   "name": "python3"
  },
  "language_info": {
   "codemirror_mode": {
    "name": "ipython",
    "version": 3
   },
   "file_extension": ".py",
   "mimetype": "text/x-python",
   "name": "python",
   "nbconvert_exporter": "python",
   "pygments_lexer": "ipython3",
   "version": "3.10.5"
  }
 },
 "nbformat": 4,
 "nbformat_minor": 5
}
